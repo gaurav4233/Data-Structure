{
 "cells": [
  {
   "cell_type": "code",
   "execution_count": null,
   "id": "5b3a258b-bf21-444a-b878-1deeb3440032",
   "metadata": {},
   "outputs": [],
   "source": [
    "# Question 1 :\n",
    "# Answer :\n"
   ]
  },
  {
   "cell_type": "code",
   "execution_count": 1,
   "id": "fcb78cca-5628-4785-99cc-fd6c4070b6fa",
   "metadata": {},
   "outputs": [],
   "source": [
    "# Question 2: What are data structures, and why are they important?\n",
    "# Answer: Data structure is the way of storing the data so that data can be manipulated efficiently.\n",
    "#         Data structure help us to manipulate the data in a cleaner, faster, and easier to understand.That's why data structure is immportant. "
   ]
  },
  {
   "cell_type": "code",
   "execution_count": null,
   "id": "fbc3d153-2729-42f9-a6c5-d0be66cc826d",
   "metadata": {},
   "outputs": [],
   "source": [
    "# Question 2 : Explain the difference between mutable and immutable data types with examples\n",
    "# Answer : Mutable data type can be changed. We can modify the elements without creating a new object. Example : List, dictionary\n",
    "#          Immutable data type cannot be changed or modify. Example : String, tuple."
   ]
  },
  {
   "cell_type": "code",
   "execution_count": null,
   "id": "e4043f10-5726-4894-9cc1-e97289a2c02a",
   "metadata": {},
   "outputs": [],
   "source": [
    "# Question 3 :What are the main differences between lists and tuples in Python ?\n",
    "# Answer : Lists are mutbabe so that it can be modify Example : Lists and Tuple cannot be modify because it is immutable data type. Example : Tuple"
   ]
  },
  {
   "cell_type": "code",
   "execution_count": 2,
   "id": "a42f4fea-404e-43c4-9c54-0bc63281decb",
   "metadata": {},
   "outputs": [],
   "source": [
    "# Question 4 : Describe how dictionaries store data?\n",
    "# Answer : Dictionaries stores the data the form of key-value pair for Ex : \n",
    "d = {\"Name\":\"Gaurav\",\"Age\": 28,} # Here Name is a key and the Gaurav is the value."
   ]
  },
  {
   "cell_type": "code",
   "execution_count": null,
   "id": "5cab47dd-c1a2-45a1-9951-d977ff8bfb02",
   "metadata": {},
   "outputs": [],
   "source": [
    "# Question 5: Why might you use a set instead of a list in Python ?\n",
    "# Answer : Set automatically removes the duplicate values, where the list store the data with the duplcate values. So that's why set is preferred\n",
    "#          over list."
   ]
  },
  {
   "cell_type": "code",
   "execution_count": null,
   "id": "72a3473f-efc6-41ee-8c02-498190783b4a",
   "metadata": {},
   "outputs": [],
   "source": [
    "# Question 6 : What is a string in Python, and how is it different from a list?\n",
    "# Answer : In the strings we can store only alphabetical data sequence, where as in a list we can store any data type.\n",
    "#          Strings are homogenous and lists are heterogenous data type.\n",
    "#          Srings are immutable and lists are mutable data type."
   ]
  },
  {
   "cell_type": "code",
   "execution_count": null,
   "id": "930adad6-dbde-4741-a076-75ac14df2d9b",
   "metadata": {},
   "outputs": [],
   "source": [
    "# Question 7 : How do tuples ensure data integrity in Python?\n",
    "# Answer : Tuples are immutable in nature it store the data it cannot be change. It prevents unwanted changes, it keeps data format consistent.\n"
   ]
  },
  {
   "cell_type": "code",
   "execution_count": null,
   "id": "e650fa22-c554-44a7-8bdc-1e073e731993",
   "metadata": {},
   "outputs": [],
   "source": [
    "# Question 8 : What is a hash table, and how does it relate to dictionaries in Python \n",
    "# Answer : A hash table is a data structure that stores key-value pairs and allows for fast lookups, insertions, and deletions"
   ]
  },
  {
   "cell_type": "code",
   "execution_count": null,
   "id": "b83d07de-7536-4e93-9e70-a86465c8d40a",
   "metadata": {},
   "outputs": [],
   "source": [
    "# Question 9: Can lists contain different data types in Python?\n",
    "# Answer :  Yes lists can cantain the different data types because it is heterogenous in nature can store a mix of integers, strings, floats, booleans, other lists, even objects—all in the same list."
   ]
  },
  {
   "cell_type": "code",
   "execution_count": null,
   "id": "80cc33c2-5bfc-479e-b893-4b14597902de",
   "metadata": {},
   "outputs": [],
   "source": [
    "# Question 10 : Explain why strings are immutable in Python ?\n",
    "# Answer : String can store only alphabetically data set, data cannot be changed once stored. That's why strings are immutable."
   ]
  },
  {
   "cell_type": "code",
   "execution_count": null,
   "id": "2ab6d845-c16f-4c83-b3ba-b143a7c29e2c",
   "metadata": {},
   "outputs": [],
   "source": [
    "# Question 11 : What advantages do dictionaries offer over lists for certain tasks.\n",
    "# Answer : Dictionaries allow quick access to values using keys, not indexes.\n",
    "#          Dictionaries use meaningful keys instead of numeric indexes.\n",
    "#          Code is more readable and self-explanatory.\n",
    "#          Easier Data Mapping\n"
   ]
  },
  {
   "cell_type": "code",
   "execution_count": null,
   "id": "bb8686e3-9777-4250-9c56-47fd8b7c67bc",
   "metadata": {},
   "outputs": [],
   "source": [
    "# Question 12 : Describe a scenario where using a tuple would be preferable over a list ?\n",
    "# Answer : Where we need to store a unique data value we use tuple. for example : aadhar number, PAN number."
   ]
  },
  {
   "cell_type": "code",
   "execution_count": null,
   "id": "bbc282d5-c901-4306-bb60-7e7b01cee0ab",
   "metadata": {},
   "outputs": [],
   "source": [
    "# Question 13: How do sets handle duplicate values in Python?\n",
    "# Answer : Sets automatically removes the duplicate values from a data set and stores only unique values.\n"
   ]
  },
  {
   "cell_type": "code",
   "execution_count": null,
   "id": "b9382980-89d8-4df2-84c7-64dd4ae6b2d5",
   "metadata": {},
   "outputs": [],
   "source": [
    "# Question 14: How does the “in” keyword work differently for lists and dictionaries?\n",
    "# Answer :  The \"in\" keyword checks if the value is exist in the lists and dictionaries or not."
   ]
  },
  {
   "cell_type": "code",
   "execution_count": null,
   "id": "29b47cef-b47e-4686-9dcd-e3cf02255cd6",
   "metadata": {},
   "outputs": [],
   "source": [
    "# Question 15: Can you modify the elements of a tuple? Explain why or why not ?\n",
    "# Answer:  The elements in the tuple cannot be modify because tuples are immutable \n"
   ]
  },
  {
   "cell_type": "code",
   "execution_count": 8,
   "id": "684e0614-ca42-462a-a214-259654fd9d66",
   "metadata": {},
   "outputs": [],
   "source": [
    "# Question 16: What is a nested dictionary, and give an example of its use case ?\n",
    "# Answer : A dictionary inside a another dictionary is called nested dictionary. Just like nested if\n",
    "# Use case: \n",
    "{'Name': ['Gaurav', 'rabhya', 1, 2], 'Age': 28}"
   ]
  },
  {
   "cell_type": "code",
   "execution_count": null,
   "id": "2eee935e-b839-431b-af77-15c36ce18826",
   "metadata": {},
   "outputs": [],
   "source": [
    "# Question 17: Describe the time complexity of accessing elements in a dictionary ?\n",
    "# Answer: Not able to answer\n"
   ]
  },
  {
   "cell_type": "code",
   "execution_count": null,
   "id": "e103ff54-3013-4860-9d0c-5b42eda0b9c1",
   "metadata": {},
   "outputs": [],
   "source": [
    "# Question 18: In what situations are lists preferred over dictionaries?\n",
    "# Answer: We can access the list by the index number,\n",
    "#         Where we need to put the duplicate numbers we uses list\n"
   ]
  },
  {
   "cell_type": "code",
   "execution_count": null,
   "id": "c00502dc-05d6-4d36-b6c0-bd76fc685ccf",
   "metadata": {},
   "outputs": [],
   "source": [
    "# Question 19: Why are dictionaries considered unordered, and how does that affect data retrieval?\n",
    "# Answer :     No Answer\n"
   ]
  },
  {
   "cell_type": "code",
   "execution_count": null,
   "id": "afc24861-927c-4886-96c6-e32eca90a10d",
   "metadata": {},
   "outputs": [],
   "source": [
    "# Question 20: Explain the difference between a list and a dictionary in terms of data retrieval.\n",
    "# Answer: In list we can access the data by using index number, where as in dict we can access the data by using key value\n"
   ]
  },
  {
   "cell_type": "code",
   "execution_count": null,
   "id": "e2982070-30f4-42ca-986a-e07e869a0392",
   "metadata": {},
   "outputs": [],
   "source": [
    "################################### PRACTICAL QUESTIONS #####################################3"
   ]
  },
  {
   "cell_type": "code",
   "execution_count": 10,
   "id": "2e102905-8d04-4d3b-9cd9-db620d0d5987",
   "metadata": {},
   "outputs": [
    {
     "name": "stdout",
     "output_type": "stream",
     "text": [
      "My name is Gaurav\n"
     ]
    }
   ],
   "source": [
    "# 1. Write a code to create a string with your name and print it ?\n",
    "Name = \"Gaurav\"\n",
    "print(\"My name is\", Name)\n"
   ]
  },
  {
   "cell_type": "code",
   "execution_count": 11,
   "id": "cf19beac-8475-45a2-9e55-a3e6bcadadd0",
   "metadata": {},
   "outputs": [
    {
     "data": {
      "text/plain": [
       "11"
      ]
     },
     "execution_count": 11,
     "metadata": {},
     "output_type": "execute_result"
    }
   ],
   "source": [
    "# 2.Write a code to find the length of the string \"Hello World\"\n",
    "Data = \"Hello World\"\n",
    "len(Data)\n"
   ]
  },
  {
   "cell_type": "code",
   "execution_count": 13,
   "id": "f2be2d90-064f-455c-9e2f-2736808a5a96",
   "metadata": {},
   "outputs": [
    {
     "data": {
      "text/plain": [
       "'Pyt'"
      ]
     },
     "execution_count": 13,
     "metadata": {},
     "output_type": "execute_result"
    }
   ],
   "source": [
    "# 3. Write a code to slice the first 3 characters from the string \"Python Programming\"\n",
    "Data = \"Python Programming\"\n",
    "task = Data[:3]\n",
    "task"
   ]
  },
  {
   "cell_type": "code",
   "execution_count": 16,
   "id": "367f8c19-c467-4668-a591-0f996fefccb1",
   "metadata": {},
   "outputs": [
    {
     "data": {
      "text/plain": [
       "'HELLO'"
      ]
     },
     "execution_count": 16,
     "metadata": {},
     "output_type": "execute_result"
    }
   ],
   "source": [
    "# 4. Write a code to convert the string \"hello\" to uppercase\n",
    "d = \"hello\"\n",
    "d.upper()"
   ]
  },
  {
   "cell_type": "code",
   "execution_count": 17,
   "id": "38ab3148-cad6-4502-a29b-ab9deb2524e7",
   "metadata": {},
   "outputs": [
    {
     "data": {
      "text/plain": [
       "'I like apple'"
      ]
     },
     "execution_count": 17,
     "metadata": {},
     "output_type": "execute_result"
    }
   ],
   "source": [
    "# 5. Write a code to replace the word \"apple\" with \"orange\" in the string \"I like apple\"\n",
    "d= \"I like orange\"\n",
    "updated_d = d.replace(\"orange\",\"apple\")\n",
    "updated_d"
   ]
  },
  {
   "cell_type": "code",
   "execution_count": 18,
   "id": "35790024-2189-41e5-b8bd-2b07e7b73679",
   "metadata": {},
   "outputs": [
    {
     "data": {
      "text/plain": [
       "[1, 2, 3, 4, 5]"
      ]
     },
     "execution_count": 18,
     "metadata": {},
     "output_type": "execute_result"
    }
   ],
   "source": [
    "# 6.Write a code to create a list with numbers 1 to 5 and print it.\n",
    "numbers = [1, 2, 3, 4, 5]\n",
    "numbers"
   ]
  },
  {
   "cell_type": "code",
   "execution_count": 19,
   "id": "1749eafd-246f-4b6f-aba9-9b65a63e46c8",
   "metadata": {},
   "outputs": [
    {
     "data": {
      "text/plain": [
       "[1, 2, 3, 4, 10]"
      ]
     },
     "execution_count": 19,
     "metadata": {},
     "output_type": "execute_result"
    }
   ],
   "source": [
    "# 7. Write a code to append the number 10 to the list [1, 2, 3, 4]\n",
    "numbers = [1, 2, 3, 4]\n",
    "numbers.append(10)\n",
    "numbers"
   ]
  },
  {
   "cell_type": "code",
   "execution_count": 20,
   "id": "fbda63fd-a64c-47e4-9984-20667560a267",
   "metadata": {},
   "outputs": [
    {
     "data": {
      "text/plain": [
       "[1, 2, 4, 5]"
      ]
     },
     "execution_count": 20,
     "metadata": {},
     "output_type": "execute_result"
    }
   ],
   "source": [
    "# 8 Write a code to remove the number 3 from the list [1, 2, 3, 4, 5]\n",
    "numbers = [1,2,3,4,5]\n",
    "numbers.remove(3)\n",
    "numbers\n"
   ]
  },
  {
   "cell_type": "code",
   "execution_count": 22,
   "id": "d5cd1d60-3756-4f0d-ab7e-ecd72e06aec7",
   "metadata": {},
   "outputs": [
    {
     "data": {
      "text/plain": [
       "'b'"
      ]
     },
     "execution_count": 22,
     "metadata": {},
     "output_type": "execute_result"
    }
   ],
   "source": [
    "# 9. Write a code to access the second element in the list ['a', 'b', 'c', 'd']\n",
    "\n",
    "A= ['a', 'b', 'c', 'd']\n",
    "b= A[1]\n",
    "b"
   ]
  },
  {
   "cell_type": "code",
   "execution_count": 23,
   "id": "5f875672-7cd9-4962-8281-4865da4f7a69",
   "metadata": {},
   "outputs": [
    {
     "data": {
      "text/plain": [
       "[50, 40, 30, 20, 10]"
      ]
     },
     "execution_count": 23,
     "metadata": {},
     "output_type": "execute_result"
    }
   ],
   "source": [
    "# 10.Write a code to reverse the list [10, 20, 30, 40, 50].\n",
    "G= [10,20,30,40,50]\n",
    "G.reverse()\n",
    "G"
   ]
  },
  {
   "cell_type": "code",
   "execution_count": 24,
   "id": "0d5631c5-a0d2-4dc1-b83f-76201347a0b4",
   "metadata": {},
   "outputs": [
    {
     "data": {
      "text/plain": [
       "(100, 200, 300)"
      ]
     },
     "execution_count": 24,
     "metadata": {},
     "output_type": "execute_result"
    }
   ],
   "source": [
    "# 11.Write a code to create a tuple with the elements 100, 200, 300 and print it.\n",
    "\n",
    "a= (100,200,300)\n",
    "a"
   ]
  },
  {
   "cell_type": "code",
   "execution_count": 26,
   "id": "61e48fdf-bb68-4cfb-a97e-cf0f834ceb01",
   "metadata": {},
   "outputs": [
    {
     "data": {
      "text/plain": [
       "'blue'"
      ]
     },
     "execution_count": 26,
     "metadata": {},
     "output_type": "execute_result"
    }
   ],
   "source": [
    "# 12. Write a code to access the second-to-last element of the tuple ('red', 'green', 'blue', 'yellow').\n",
    "a = ('red', 'green', 'blue', 'yellow')\n",
    "b= a[-2]\n",
    "b"
   ]
  },
  {
   "cell_type": "code",
   "execution_count": null,
   "id": "8e1db0e1-d7b1-459d-8db6-5952807b273d",
   "metadata": {},
   "outputs": [],
   "source": [
    "# 13.Write a code to find the minimum number in the tuple (10, 20, 5, 15)."
   ]
  },
  {
   "cell_type": "code",
   "execution_count": 27,
   "id": "e4f6f2a5-3932-46c7-91c6-fd29d5032dd0",
   "metadata": {},
   "outputs": [
    {
     "data": {
      "text/plain": [
       "5"
      ]
     },
     "execution_count": 27,
     "metadata": {},
     "output_type": "execute_result"
    }
   ],
   "source": [
    "a= (10, 20, 5, 15)\n",
    "b= min(a)\n",
    "b"
   ]
  },
  {
   "cell_type": "code",
   "execution_count": 29,
   "id": "39887da1-1105-4d5b-8be7-5288ab85b93a",
   "metadata": {},
   "outputs": [
    {
     "data": {
      "text/plain": [
       "1"
      ]
     },
     "execution_count": 29,
     "metadata": {},
     "output_type": "execute_result"
    }
   ],
   "source": [
    "# 14. Write a code to find the index of the element \"cat\" in the tuple ('dog', 'cat', 'rabbit').\n",
    "a= ('dog', 'cat', 'rabbit')\n",
    "a.index('cat')"
   ]
  },
  {
   "cell_type": "code",
   "execution_count": 31,
   "id": "77d30311-356a-4b49-939f-e7b2ce14d4cb",
   "metadata": {},
   "outputs": [
    {
     "data": {
      "text/plain": [
       "True"
      ]
     },
     "execution_count": 31,
     "metadata": {},
     "output_type": "execute_result"
    }
   ],
   "source": [
    "# 15. Write a code to create a tuple containing three different fruits and check if \"kiwi\" is in it.\n",
    "\n",
    "fruits = ('orange', 'banana', 'kiwi')\n",
    "result= 'kiwi' in fruits\n",
    "result"
   ]
  },
  {
   "cell_type": "code",
   "execution_count": 32,
   "id": "6cdbdc23-936b-433d-9148-afef493d9560",
   "metadata": {},
   "outputs": [
    {
     "data": {
      "text/plain": [
       "{'a', 'b', 'c'}"
      ]
     },
     "execution_count": 32,
     "metadata": {},
     "output_type": "execute_result"
    }
   ],
   "source": [
    "# 16.Write a code to create a set with the elements 'a', 'b', 'c' and print it.\n",
    "\n",
    "Set = {'a', 'b', 'c'}\n",
    "Set\n"
   ]
  },
  {
   "cell_type": "code",
   "execution_count": 36,
   "id": "1e419d9c-dbfc-4f59-9424-ce2a85fcba27",
   "metadata": {},
   "outputs": [
    {
     "data": {
      "text/plain": [
       "set()"
      ]
     },
     "execution_count": 36,
     "metadata": {},
     "output_type": "execute_result"
    }
   ],
   "source": [
    "# 17. Write a code to clear all elements from the set {1, 2, 3, 4, 5}.\n",
    "a= {1, 2, 3, 4, 5}\n",
    "a.clear()\n",
    "a"
   ]
  },
  {
   "cell_type": "code",
   "execution_count": 39,
   "id": "6c164fa8-fb0a-45ef-be83-f417c4c2ad19",
   "metadata": {},
   "outputs": [
    {
     "data": {
      "text/plain": [
       "{1, 2, 3}"
      ]
     },
     "execution_count": 39,
     "metadata": {},
     "output_type": "execute_result"
    }
   ],
   "source": [
    "# 18. Write a code to remove the element 4 from the set {1, 2, 3, 4}.\n",
    "a= {1, 2, 3, 4}\n",
    "a.remove(4)\n",
    "a"
   ]
  },
  {
   "cell_type": "code",
   "execution_count": 40,
   "id": "74efb9d5-fa91-4332-a404-0d30bbc3c889",
   "metadata": {},
   "outputs": [
    {
     "data": {
      "text/plain": [
       "{1, 2, 4, 5}"
      ]
     },
     "execution_count": 40,
     "metadata": {},
     "output_type": "execute_result"
    }
   ],
   "source": [
    "# 19. Write a code to find the union of two sets {1, 2, 3} and {3, 4, 5}.\n",
    "a= {1, 2, 3}\n",
    "b= {3, 4, 5}\n",
    "c= a ^ b\n",
    "c"
   ]
  },
  {
   "cell_type": "code",
   "execution_count": 41,
   "id": "2d774caf-4ed6-42f3-b7ed-5a429273ee9c",
   "metadata": {},
   "outputs": [
    {
     "data": {
      "text/plain": [
       "{2, 3}"
      ]
     },
     "execution_count": 41,
     "metadata": {},
     "output_type": "execute_result"
    }
   ],
   "source": [
    "# 20. Write a code to find the intersection of two sets {1, 2, 3} and {2, 3, 4}.\n",
    "a= {1, 2, 3}\n",
    "b= {2, 3, 4}\n",
    "c = a & b\n",
    "c"
   ]
  },
  {
   "cell_type": "code",
   "execution_count": 5,
   "id": "4426c6b8-076a-4124-834e-be66f59bdc82",
   "metadata": {},
   "outputs": [
    {
     "data": {
      "text/plain": [
       "{'age : 28', 'city : Ambala Cantt', 'name : Gaurav'}"
      ]
     },
     "execution_count": 5,
     "metadata": {},
     "output_type": "execute_result"
    }
   ],
   "source": [
    "# 21.Write a code to create a dictionary with the keys \"name\", \"age\", and \"city\", and print it.\n",
    "\n",
    "a= {\"name : Gaurav\", \"age : 28\", \"city : Ambala Cantt\"}\n",
    "    \n",
    "a\n"
   ]
  },
  {
   "cell_type": "code",
   "execution_count": 9,
   "id": "5cff7487-3416-4a1e-b709-27a2a3f5a23d",
   "metadata": {},
   "outputs": [
    {
     "data": {
      "text/plain": [
       "{'name': 'John', 'age': 25, 'country': 'USA'}"
      ]
     },
     "execution_count": 9,
     "metadata": {},
     "output_type": "execute_result"
    }
   ],
   "source": [
    "# 22. Write a code to add a new key-value pair \"country\": \"USA\" to the dictionary {'name': 'John', 'age': 25}.\n",
    "\n",
    "a= {'name': 'John', 'age': 25}\n",
    "b= {\"country\": \"USA\"}\n",
    "a.update(b)\n",
    "a"
   ]
  },
  {
   "cell_type": "code",
   "execution_count": 19,
   "id": "e7f6a7a3-02ba-4d5b-9f22-356764ff481b",
   "metadata": {},
   "outputs": [
    {
     "data": {
      "text/plain": [
       "'Alice'"
      ]
     },
     "execution_count": 19,
     "metadata": {},
     "output_type": "execute_result"
    }
   ],
   "source": [
    "# 23. Write a code to access the value associated with the key \"name\" in the dictionary {'name': 'Alice', 'age': 30}.\n",
    "a= {'name': 'Alice', 'age': 30}\n",
    "a['name']"
   ]
  },
  {
   "cell_type": "code",
   "execution_count": 24,
   "id": "370e7012-dbd6-4558-be53-2c625f8b7768",
   "metadata": {},
   "outputs": [
    {
     "data": {
      "text/plain": [
       "{'name': 'Bob', 'city': 'New York'}"
      ]
     },
     "execution_count": 24,
     "metadata": {},
     "output_type": "execute_result"
    }
   ],
   "source": [
    "# 24.Write a code to remove the key \"age\" from the dictionary {'name': 'Bob', 'age': 22, 'city': 'New York'}.\n",
    "a= {'name': 'Bob', 'age': 22, 'city': 'New York'}\n",
    "del a['age']\n",
    "a"
   ]
  },
  {
   "cell_type": "code",
   "execution_count": 25,
   "id": "42399062-a69b-4165-84a3-d2a19b70a11c",
   "metadata": {},
   "outputs": [
    {
     "name": "stdout",
     "output_type": "stream",
     "text": [
      "Available\n"
     ]
    }
   ],
   "source": [
    "# 25. Write a code to check if the key \"city\" exists in the dictionary {'name': 'Alice', 'city': 'Paris'}.\n",
    "a = {'name': 'Alice', 'city': 'Paris'}\n",
    "if 'city' in a:\n",
    "    print(\"Available\")"
   ]
  },
  {
   "cell_type": "code",
   "execution_count": 26,
   "id": "9101459f-4fd4-42c2-b948-a837bd1d4226",
   "metadata": {},
   "outputs": [
    {
     "name": "stdout",
     "output_type": "stream",
     "text": [
      "List: [1, 2, 3, 4, 5]\n",
      "Tuple: ('apple', 'banana', 'cherry')\n",
      "Dictionary: {'name': 'Bob', 'age': 30}\n"
     ]
    }
   ],
   "source": [
    "# 26. Write a code to create a list, a tuple, and a dictionary, and print them all.\n",
    "lis = [1, 2, 3, 4, 5]\n",
    "tup = ('apple', 'banana', 'cherry')\n",
    "dic = {'name': 'Bob', 'age': 30}\n",
    "print(\"List:\",lis)\n",
    "print(\"Tuple:\",tup)\n",
    "print(\"Dictionary:\",dic)"
   ]
  },
  {
   "cell_type": "code",
   "execution_count": 38,
   "id": "d2387d23-47c4-4825-961a-c3590f7588cf",
   "metadata": {},
   "outputs": [
    {
     "data": {
      "text/plain": [
       "range(1, 100)"
      ]
     },
     "execution_count": 38,
     "metadata": {},
     "output_type": "execute_result"
    }
   ],
   "source": [
    "#27. Write a code to create a list of 5 random numbers between 1 and 100, sort it in ascending order, and print the result.(replaced)\n",
    "\n",
    "Number = range(1,100)\n",
    "Number"
   ]
  },
  {
   "cell_type": "code",
   "execution_count": 39,
   "id": "3e3669de-bf8e-412c-a2f6-5b6afb57ef7c",
   "metadata": {},
   "outputs": [
    {
     "data": {
      "text/plain": [
       "'date'"
      ]
     },
     "execution_count": 39,
     "metadata": {},
     "output_type": "execute_result"
    }
   ],
   "source": [
    "# 28. Write a code to create a list with strings and print the element at the third index.\n",
    "\n",
    "basket = ['apple', 'banana', 'cherry', 'date', 'elderberry']\n",
    "basket [3]"
   ]
  },
  {
   "cell_type": "code",
   "execution_count": 43,
   "id": "aad09f29-d26d-41d8-9a85-2a0e4bf3f821",
   "metadata": {},
   "outputs": [
    {
     "name": "stdout",
     "output_type": "stream",
     "text": [
      "(1, 4)\n",
      "(2, 5)\n",
      "(3, 6)\n"
     ]
    }
   ],
   "source": [
    "# 29. Write a code to combine two dictionaries into one and print the result.\n",
    "a= {1,2,3}\n",
    "b =  {4,5,6}\n",
    "for i in zip (a,b):\n",
    "    print(i)"
   ]
  },
  {
   "cell_type": "code",
   "execution_count": 45,
   "id": "9ba63775-579f-497b-9234-a543309b57bb",
   "metadata": {},
   "outputs": [
    {
     "data": {
      "text/plain": [
       "{'apple', 'banana', 'cherry'}"
      ]
     },
     "execution_count": 45,
     "metadata": {},
     "output_type": "execute_result"
    }
   ],
   "source": [
    "# 30. Write a code to convert a list of strings into a set.\n",
    "my_list = ['apple', 'banana', 'cherry', 'apple', 'banana']\n",
    "my_string = set(my_list)\n",
    "my_string\n"
   ]
  }
 ],
 "metadata": {
  "kernelspec": {
   "display_name": "Python 3 (ipykernel)",
   "language": "python",
   "name": "python3"
  },
  "language_info": {
   "codemirror_mode": {
    "name": "ipython",
    "version": 3
   },
   "file_extension": ".py",
   "mimetype": "text/x-python",
   "name": "python",
   "nbconvert_exporter": "python",
   "pygments_lexer": "ipython3",
   "version": "3.13.3"
  }
 },
 "nbformat": 4,
 "nbformat_minor": 5
}
